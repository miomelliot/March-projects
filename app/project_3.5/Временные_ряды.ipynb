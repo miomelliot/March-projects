{
  "cells": [
    {
      "cell_type": "code",
      "execution_count": 21,
      "metadata": {
        "id": "K6vKZ9qiN6cR"
      },
      "outputs": [],
      "source": [
        "# импорт numpy и pandas\n",
        "import numpy as np\n",
        "import pandas as pd\n",
        "\n",
        "import datetime\n",
        "from datetime import datetime, date\n",
        "\n",
        "pd.set_option('display.notebook_repr_html', False)\n",
        "pd.set_option('display.max_columns', 7)\n",
        "pd.set_option('display.max_rows', 10)\n",
        "pd.set_option('display.width', 60)\n",
        "\n",
        "import matplotlib.pyplot as plt\n",
        "%matplotlib inline"
      ]
    },
    {
      "cell_type": "markdown",
      "metadata": {
        "id": "nFzeUy1xPpfC"
      },
      "source": [
        "Представление дат, времени и интервалов"
      ]
    },
    {
      "cell_type": "code",
      "execution_count": 22,
      "metadata": {
        "colab": {
          "base_uri": "https://localhost:8080/"
        },
        "id": "Sg4CB81nPmrr",
        "outputId": "21e12d5a-5a6f-468a-d76b-eac20792c12e"
      },
      "outputs": [
        {
          "data": {
            "text/plain": [
              "datetime.datetime(2014, 12, 15, 0, 0)"
            ]
          },
          "execution_count": 22,
          "metadata": {},
          "output_type": "execute_result"
        }
      ],
      "source": [
        "datetime(2014, 12, 15)"
      ]
    },
    {
      "cell_type": "code",
      "execution_count": 23,
      "metadata": {
        "colab": {
          "base_uri": "https://localhost:8080/"
        },
        "id": "U2w5_zwFP9_1",
        "outputId": "054d7382-772f-4a7a-bd43-c4b866bdc3e4"
      },
      "outputs": [
        {
          "data": {
            "text/plain": [
              "datetime.datetime(2014, 12, 15, 17, 30)"
            ]
          },
          "execution_count": 23,
          "metadata": {},
          "output_type": "execute_result"
        }
      ],
      "source": [
        "datetime(2014, 12, 15, 17, 30)"
      ]
    },
    {
      "cell_type": "markdown",
      "metadata": {
        "id": "Eq9Mci4pEDsE"
      },
      "source": []
    },
    {
      "cell_type": "code",
      "execution_count": 24,
      "metadata": {
        "colab": {
          "base_uri": "https://localhost:8080/"
        },
        "id": "bA2QB-QcQAGi",
        "outputId": "0a5f2944-6d06-4234-b8f1-e0e57f20c47b"
      },
      "outputs": [
        {
          "data": {
            "text/plain": [
              "datetime.datetime(2025, 3, 31, 0, 22, 34, 599775)"
            ]
          },
          "execution_count": 24,
          "metadata": {},
          "output_type": "execute_result"
        }
      ],
      "source": [
        "datetime.now()"
      ]
    },
    {
      "cell_type": "code",
      "execution_count": 25,
      "metadata": {
        "colab": {
          "base_uri": "https://localhost:8080/"
        },
        "id": "FFTXZQFsQDfE",
        "outputId": "539ac18f-e077-4612-f643-b5322c7c0653"
      },
      "outputs": [
        {
          "data": {
            "text/plain": [
              "datetime.date(2014, 12, 15)"
            ]
          },
          "execution_count": 25,
          "metadata": {},
          "output_type": "execute_result"
        }
      ],
      "source": [
        "datetime.date(datetime(2014, 12, 15))"
      ]
    },
    {
      "cell_type": "code",
      "execution_count": 30,
      "metadata": {
        "colab": {
          "base_uri": "https://localhost:8080/"
        },
        "id": "-B-Wfd1hQGas",
        "outputId": "3905d7a8-a1e6-421b-a47e-a9fcc923b7d5"
      },
      "outputs": [
        {
          "data": {
            "text/plain": [
              "datetime.date(2025, 3, 31)"
            ]
          },
          "execution_count": 30,
          "metadata": {},
          "output_type": "execute_result"
        }
      ],
      "source": [
        "datetime.now().date()"
      ]
    },
    {
      "cell_type": "code",
      "execution_count": 31,
      "metadata": {
        "colab": {
          "base_uri": "https://localhost:8080/"
        },
        "id": "_AdVWQvKQIlh",
        "outputId": "f8b76387-7fc5-45f3-896f-03fd795f519b"
      },
      "outputs": [
        {
          "data": {
            "text/plain": [
              "datetime.time(17, 30)"
            ]
          },
          "execution_count": 31,
          "metadata": {},
          "output_type": "execute_result"
        }
      ],
      "source": [
        "datetime.time(datetime(2014, 12, 15, 17, 30))"
      ]
    },
    {
      "cell_type": "code",
      "execution_count": 32,
      "metadata": {
        "colab": {
          "base_uri": "https://localhost:8080/"
        },
        "id": "kZN7pFdWQLmD",
        "outputId": "bba22cd3-256d-42cb-add8-685a2b80cf8d"
      },
      "outputs": [
        {
          "data": {
            "text/plain": [
              "datetime.time(0, 22, 44, 899286)"
            ]
          },
          "execution_count": 32,
          "metadata": {},
          "output_type": "execute_result"
        }
      ],
      "source": [
        "datetime.now().time()"
      ]
    },
    {
      "cell_type": "markdown",
      "metadata": {
        "id": "CLSftIVVQUx2"
      },
      "source": [
        "Создание временной метки с помощью объекта Timestamp"
      ]
    },
    {
      "cell_type": "code",
      "execution_count": 33,
      "metadata": {
        "colab": {
          "base_uri": "https://localhost:8080/"
        },
        "id": "egDdaeZqQOFu",
        "outputId": "635d22ef-6293-492d-ac6c-9da452f0c745"
      },
      "outputs": [
        {
          "data": {
            "text/plain": [
              "Timestamp('2014-12-15 00:00:00')"
            ]
          },
          "execution_count": 33,
          "metadata": {},
          "output_type": "execute_result"
        }
      ],
      "source": [
        "pd.Timestamp('2014-12-15')"
      ]
    },
    {
      "cell_type": "code",
      "execution_count": 34,
      "metadata": {
        "colab": {
          "base_uri": "https://localhost:8080/"
        },
        "id": "zsOazm80QefT",
        "outputId": "c6f4a0b8-758e-45a3-b730-ac5c5a6ec8c1"
      },
      "outputs": [
        {
          "data": {
            "text/plain": [
              "Timestamp('2014-12-15 17:30:00')"
            ]
          },
          "execution_count": 34,
          "metadata": {},
          "output_type": "execute_result"
        }
      ],
      "source": [
        "pd.Timestamp('2014-12-15 17:30')"
      ]
    },
    {
      "cell_type": "code",
      "execution_count": 12,
      "metadata": {
        "colab": {
          "base_uri": "https://localhost:8080/"
        },
        "id": "FoFOYZS5QhSd",
        "outputId": "04e4ff6a-3063-417e-81b8-fc78de379ac9"
      },
      "outputs": [
        {
          "data": {
            "text/plain": [
              "Timestamp('2025-03-31 17:30:00')"
            ]
          },
          "execution_count": 12,
          "metadata": {},
          "output_type": "execute_result"
        }
      ],
      "source": [
        "pd.Timestamp('17:30')"
      ]
    },
    {
      "cell_type": "code",
      "execution_count": 13,
      "metadata": {
        "colab": {
          "base_uri": "https://localhost:8080/"
        },
        "id": "yI7g2AQaQjaN",
        "outputId": "cc960f00-1bd2-4818-af74-fd7953835aca"
      },
      "outputs": [
        {
          "data": {
            "text/plain": [
              "Timestamp('2025-03-31 00:21:44.807203')"
            ]
          },
          "execution_count": 13,
          "metadata": {},
          "output_type": "execute_result"
        }
      ],
      "source": [
        "pd.Timestamp(\"now\")"
      ]
    },
    {
      "cell_type": "markdown",
      "metadata": {
        "id": "OsFIXdyuQr7T"
      },
      "source": [
        "Использование объекта Timedelta для представления временного интервала"
      ]
    },
    {
      "cell_type": "code",
      "execution_count": 14,
      "metadata": {
        "colab": {
          "base_uri": "https://localhost:8080/"
        },
        "id": "qSljJ3l-QnRC",
        "outputId": "6c2fe6fa-268c-4681-d552-cb54105c2ba5"
      },
      "outputs": [
        {
          "data": {
            "text/plain": [
              "datetime.datetime(2023, 3, 20, 0, 0)"
            ]
          },
          "execution_count": 14,
          "metadata": {},
          "output_type": "execute_result"
        }
      ],
      "source": [
        "today = datetime(2023, 3, 19)\n",
        "tomorrow = today + pd.Timedelta(days=1)\n",
        "tomorrow"
      ]
    },
    {
      "cell_type": "code",
      "execution_count": 15,
      "metadata": {
        "colab": {
          "base_uri": "https://localhost:8080/"
        },
        "id": "Q1rrxFyXQ15f",
        "outputId": "f65c8ceb-d9fd-4f93-bfff-176416a1f1f9"
      },
      "outputs": [
        {
          "data": {
            "text/plain": [
              "datetime.timedelta(days=4)"
            ]
          },
          "execution_count": 15,
          "metadata": {},
          "output_type": "execute_result"
        }
      ],
      "source": [
        "date1 = datetime(2014, 12, 2)\n",
        "date2 = datetime(2014, 11, 28)\n",
        "date1 - date2"
      ]
    },
    {
      "cell_type": "markdown",
      "metadata": {
        "id": "08vwWc9AQ8nd"
      },
      "source": [
        "Индексация с помощью объектов DatetimeIndex"
      ]
    },
    {
      "cell_type": "code",
      "execution_count": 16,
      "metadata": {
        "colab": {
          "base_uri": "https://localhost:8080/"
        },
        "id": "ikGxVijoRF7x",
        "outputId": "b13f73a5-44c5-4b25-85e8-4131d0490b66"
      },
      "outputs": [
        {
          "data": {
            "text/plain": [
              "2014-08-01    0.342427\n",
              "2014-08-02    2.364904\n",
              "dtype: float64"
            ]
          },
          "execution_count": 16,
          "metadata": {},
          "output_type": "execute_result"
        }
      ],
      "source": [
        "dates = [datetime(2014, 8, 1), datetime(2014, 8, 2)]\n",
        "ts = pd.Series(np.random.randn(2), dates)\n",
        "ts"
      ]
    },
    {
      "cell_type": "code",
      "execution_count": 17,
      "metadata": {
        "colab": {
          "base_uri": "https://localhost:8080/"
        },
        "id": "zyqGYw7DRIXI",
        "outputId": "91d9c6d8-9c33-4420-9350-5933506c471d"
      },
      "outputs": [
        {
          "data": {
            "text/plain": [
              "pandas.core.indexes.datetimes.DatetimeIndex"
            ]
          },
          "execution_count": 17,
          "metadata": {},
          "output_type": "execute_result"
        }
      ],
      "source": [
        "type(ts.index)"
      ]
    },
    {
      "cell_type": "code",
      "execution_count": 18,
      "metadata": {
        "colab": {
          "base_uri": "https://localhost:8080/"
        },
        "id": "OHdIhaV1RLT-",
        "outputId": "f9a745c0-e25a-46bf-b2ff-953489eb8b95"
      },
      "outputs": [
        {
          "data": {
            "text/plain": [
              "pandas._libs.tslibs.timestamps.Timestamp"
            ]
          },
          "execution_count": 18,
          "metadata": {},
          "output_type": "execute_result"
        }
      ],
      "source": [
        "type(ts.index[0])"
      ]
    },
    {
      "cell_type": "code",
      "execution_count": 19,
      "metadata": {
        "colab": {
          "base_uri": "https://localhost:8080/"
        },
        "id": "qLNK4xmGRUhK",
        "outputId": "711175ab-29af-434d-eb80-3f1a0231c552"
      },
      "outputs": [
        {
          "data": {
            "text/plain": [
              "2014-08-01    0.469112\n",
              "2014-08-02   -0.282863\n",
              "dtype: float64"
            ]
          },
          "execution_count": 19,
          "metadata": {},
          "output_type": "execute_result"
        }
      ],
      "source": [
        "np.random.seed(123456)\n",
        "dates = ['2014-08-01', '2014-08-02']\n",
        "ts = pd.Series(np.random.randn(2), dates)\n",
        "ts"
      ]
    },
    {
      "cell_type": "code",
      "execution_count": 36,
      "metadata": {
        "colab": {
          "base_uri": "https://localhost:8080/"
        },
        "id": "ONQxONh0RWq8",
        "outputId": "6aa16f89-081e-4b31-f0ea-564ad7a91432"
      },
      "outputs": [
        {
          "name": "stdout",
          "output_type": "stream",
          "text": [
            "2014-08-01 00:00:00\n",
            "2014-08-02 00:00:00\n",
            "2014-08-03 00:00:00\n",
            "NaT\n"
          ]
        }
      ],
      "source": [
        "dti = pd.to_datetime(\n",
        "    ['Aug 1, 2014', '2014-08-02', '2014.8.3', None],\n",
        "    format='mixed',  # ключевая магия\n",
        "    errors='coerce'  # безопасная обработка None или кривых дат\n",
        ")\n",
        "for l in dti: print (l)"
      ]
    },
    {
      "cell_type": "code",
      "execution_count": 38,
      "metadata": {
        "colab": {
          "base_uri": "https://localhost:8080/"
        },
        "id": "jbJGMxJMRcQk",
        "outputId": "aeaa8457-9b36-4dca-b987-988d0737fba7"
      },
      "outputs": [
        {
          "data": {
            "text/plain": [
              "DatetimeIndex(['2014-08-01', 'NaT'], dtype='datetime64[ns]', freq=None)"
            ]
          },
          "execution_count": 38,
          "metadata": {},
          "output_type": "execute_result"
        }
      ],
      "source": [
        "pd.to_datetime(['Aug 1, 2014', 'foo'], errors=\"coerce\")"
      ]
    },
    {
      "cell_type": "code",
      "execution_count": 39,
      "metadata": {
        "colab": {
          "base_uri": "https://localhost:8080/"
        },
        "id": "tqByyQUBRhXq",
        "outputId": "2614003c-c819-4111-829f-ccc650c10171"
      },
      "outputs": [
        {
          "data": {
            "text/plain": [
              "2014-08-01    0.469112\n",
              "2014-08-02   -0.282863\n",
              "2014-08-03   -1.509059\n",
              "2014-08-04   -1.135632\n",
              "2014-08-05    1.212112\n",
              "2014-08-06   -0.173215\n",
              "2014-08-07    0.119209\n",
              "2014-08-08   -1.044236\n",
              "2014-08-09   -0.861849\n",
              "2014-08-10   -2.104569\n",
              "Freq: D, dtype: float64"
            ]
          },
          "execution_count": 39,
          "metadata": {},
          "output_type": "execute_result"
        }
      ],
      "source": [
        "np.random.seed(123456)\n",
        "periods = pd.date_range('8/1/2014', periods=10)\n",
        "date_series = pd.Series(np.random.randn(10), index=periods)\n",
        "date_series"
      ]
    },
    {
      "cell_type": "code",
      "execution_count": 40,
      "metadata": {
        "colab": {
          "base_uri": "https://localhost:8080/"
        },
        "id": "3RF8uq2DRkQZ",
        "outputId": "3d84ac77-84f6-422c-cbe2-7eb921457e18"
      },
      "outputs": [
        {
          "data": {
            "text/plain": [
              "2014-08-04   -1.135632\n",
              "2014-08-05    1.212112\n",
              "2014-08-06   -0.173215\n",
              "2014-08-07    0.119209\n",
              "Freq: D, dtype: float64"
            ]
          },
          "execution_count": 40,
          "metadata": {},
          "output_type": "execute_result"
        }
      ],
      "source": [
        "subset = date_series[3:7]\n",
        "subset"
      ]
    },
    {
      "cell_type": "code",
      "execution_count": 41,
      "metadata": {
        "colab": {
          "base_uri": "https://localhost:8080/"
        },
        "id": "2Xm80DeqRmKq",
        "outputId": "0992baea-e0fe-4216-c46c-27e90b2f39b6"
      },
      "outputs": [
        {
          "data": {
            "text/plain": [
              "2014-08-04       10\n",
              "2014-08-05      100\n",
              "2014-08-06     1000\n",
              "2014-08-07    10000\n",
              "Freq: D, dtype: int64"
            ]
          },
          "execution_count": 41,
          "metadata": {},
          "output_type": "execute_result"
        }
      ],
      "source": [
        "s2 = pd.Series([10, 100, 1000, 10000], subset.index)\n",
        "s2"
      ]
    },
    {
      "cell_type": "code",
      "execution_count": 42,
      "metadata": {
        "colab": {
          "base_uri": "https://localhost:8080/"
        },
        "id": "z3IT3i36RqS1",
        "outputId": "1f709a54-82ec-4cf6-8e2f-0ec4a4731f63"
      },
      "outputs": [
        {
          "data": {
            "text/plain": [
              "2014-08-01             NaN\n",
              "2014-08-02             NaN\n",
              "2014-08-03             NaN\n",
              "2014-08-04        8.864368\n",
              "2014-08-05      101.212112\n",
              "2014-08-06      999.826785\n",
              "2014-08-07    10000.119209\n",
              "2014-08-08             NaN\n",
              "2014-08-09             NaN\n",
              "2014-08-10             NaN\n",
              "Freq: D, dtype: float64"
            ]
          },
          "execution_count": 42,
          "metadata": {},
          "output_type": "execute_result"
        }
      ],
      "source": [
        "date_series + s2"
      ]
    },
    {
      "cell_type": "code",
      "execution_count": 43,
      "metadata": {
        "colab": {
          "base_uri": "https://localhost:8080/"
        },
        "id": "IBSfVZDfRtSJ",
        "outputId": "1d75f47b-9aba-444f-9e19-a53aebe4d2f3"
      },
      "outputs": [
        {
          "data": {
            "text/plain": [
              "np.float64(1.2121120250208506)"
            ]
          },
          "execution_count": 43,
          "metadata": {},
          "output_type": "execute_result"
        }
      ],
      "source": [
        "date_series['2014-08-05']"
      ]
    },
    {
      "cell_type": "code",
      "execution_count": 44,
      "metadata": {
        "colab": {
          "base_uri": "https://localhost:8080/"
        },
        "id": "0MuVbhx0R1tO",
        "outputId": "809d8a37-7a5b-4ae6-bc22-f25fabe12a90"
      },
      "outputs": [
        {
          "data": {
            "text/plain": [
              "2014-08-05    1.212112\n",
              "2014-08-06   -0.173215\n",
              "2014-08-07    0.119209\n",
              "Freq: D, dtype: float64"
            ]
          },
          "execution_count": 44,
          "metadata": {},
          "output_type": "execute_result"
        }
      ],
      "source": [
        "date_series['2014-08-05':'2014-08-07']"
      ]
    },
    {
      "cell_type": "code",
      "execution_count": 45,
      "metadata": {
        "colab": {
          "base_uri": "https://localhost:8080/"
        },
        "id": "t9Cq7sfER2Xg",
        "outputId": "c4d0a7ae-dc3f-471f-f7df-dc68407ecd37"
      },
      "outputs": [
        {
          "data": {
            "text/plain": [
              "2013-01-01    0\n",
              "2013-01-02    0\n",
              "2013-01-03    0\n",
              "2013-01-04    0\n",
              "2013-01-05    0\n",
              "             ..\n",
              "2013-12-27    0\n",
              "2013-12-28    0\n",
              "2013-12-29    0\n",
              "2013-12-30    0\n",
              "2013-12-31    0\n",
              "Freq: D, Length: 365, dtype: int64"
            ]
          },
          "execution_count": 45,
          "metadata": {},
          "output_type": "execute_result"
        }
      ],
      "source": [
        "s3 = pd.Series(0, pd.date_range('2013-01-01', '2014-12-31'))\n",
        "s3['2013']"
      ]
    },
    {
      "cell_type": "code",
      "execution_count": 46,
      "metadata": {
        "colab": {
          "base_uri": "https://localhost:8080/"
        },
        "id": "oSY2sxn9R53q",
        "outputId": "2ecef529-e36a-4a9d-ac9a-889f90787512"
      },
      "outputs": [
        {
          "data": {
            "text/plain": [
              "2014-05-01    0\n",
              "2014-05-02    0\n",
              "2014-05-03    0\n",
              "2014-05-04    0\n",
              "2014-05-05    0\n",
              "             ..\n",
              "2014-05-27    0\n",
              "2014-05-28    0\n",
              "2014-05-29    0\n",
              "2014-05-30    0\n",
              "2014-05-31    0\n",
              "Freq: D, Length: 31, dtype: int64"
            ]
          },
          "execution_count": 46,
          "metadata": {},
          "output_type": "execute_result"
        }
      ],
      "source": [
        "s3['2014-05']"
      ]
    },
    {
      "cell_type": "code",
      "execution_count": 47,
      "metadata": {
        "colab": {
          "base_uri": "https://localhost:8080/"
        },
        "id": "4WdSjejfR_ql",
        "outputId": "e2cf3aa0-f8f4-4f2f-a179-be54d80ab0a3"
      },
      "outputs": [
        {
          "data": {
            "text/plain": [
              "2014-08-01    0\n",
              "2014-08-02    0\n",
              "2014-08-03    0\n",
              "2014-08-04    0\n",
              "2014-08-05    0\n",
              "             ..\n",
              "2014-09-26    0\n",
              "2014-09-27    0\n",
              "2014-09-28    0\n",
              "2014-09-29    0\n",
              "2014-09-30    0\n",
              "Freq: D, Length: 61, dtype: int64"
            ]
          },
          "execution_count": 47,
          "metadata": {},
          "output_type": "execute_result"
        }
      ],
      "source": [
        "s3['2014-08':'2014-09']"
      ]
    },
    {
      "cell_type": "markdown",
      "metadata": {
        "id": "r539JhYNSDCc"
      },
      "source": [
        "Создание временного ряда с определенной частотой"
      ]
    },
    {
      "cell_type": "code",
      "execution_count": 48,
      "metadata": {
        "colab": {
          "base_uri": "https://localhost:8080/"
        },
        "id": "6_R-ojfoSNT4",
        "outputId": "bb981d7d-663a-49b9-f400-b412a0cf537e"
      },
      "outputs": [
        {
          "name": "stderr",
          "output_type": "stream",
          "text": [
            "/tmp/ipykernel_42352/3619724716.py:3: FutureWarning: 'T' is deprecated and will be removed in a future version, please use 'min' instead.\n",
            "  pd.date_range('2014-08-01',\n"
          ]
        },
        {
          "data": {
            "text/plain": [
              "2014-08-01 00:00:00    0.469112\n",
              "2014-08-01 00:01:00   -0.282863\n",
              "2014-08-01 00:02:00   -1.509059\n",
              "2014-08-01 00:03:00   -1.135632\n",
              "2014-08-01 00:04:00    1.212112\n",
              "Freq: min, dtype: float64"
            ]
          },
          "execution_count": 48,
          "metadata": {},
          "output_type": "execute_result"
        }
      ],
      "source": [
        "np.random.seed(123456)\n",
        "bymin = pd.Series(np.random.randn(24*60*90), \n",
        "                  pd.date_range('2014-08-01', \n",
        "                                '2014-10-29 23:59',\n",
        "                                freq='T'))\n",
        "bymin[:5]"
      ]
    },
    {
      "cell_type": "code",
      "execution_count": 49,
      "metadata": {
        "colab": {
          "base_uri": "https://localhost:8080/"
        },
        "id": "FJmLyLedSWXK",
        "outputId": "210a4ed7-1466-4743-814f-8e2b181a15e3"
      },
      "outputs": [
        {
          "data": {
            "text/plain": [
              "2014-08-01 00:02:00   -1.509059\n",
              "2014-08-01 00:03:00   -1.135632\n",
              "2014-08-01 00:04:00    1.212112\n",
              "2014-08-01 00:05:00   -0.173215\n",
              "2014-08-01 00:06:00    0.119209\n",
              "2014-08-01 00:07:00   -1.044236\n",
              "Freq: min, dtype: float64"
            ]
          },
          "execution_count": 49,
          "metadata": {},
          "output_type": "execute_result"
        }
      ],
      "source": [
        "bymin['2014-08-01 00:02':'2014-08-01 00:07']"
      ]
    },
    {
      "cell_type": "code",
      "execution_count": 50,
      "metadata": {
        "colab": {
          "base_uri": "https://localhost:8080/"
        },
        "id": "NdvtYKmWSXEm",
        "outputId": "d06de957-14b2-40bc-d08b-49a83e9d4035"
      },
      "outputs": [
        {
          "data": {
            "text/plain": [
              "DatetimeIndex(['2014-08-29', '2014-09-01', '2014-09-02',\n",
              "               '2014-09-03', '2014-09-04', '2014-09-05'],\n",
              "              dtype='datetime64[ns]', freq='B')"
            ]
          },
          "execution_count": 50,
          "metadata": {},
          "output_type": "execute_result"
        }
      ],
      "source": [
        "days = pd.date_range('2014-08-29', '2014-09-05', freq='B')\n",
        "days"
      ]
    },
    {
      "cell_type": "code",
      "execution_count": 51,
      "metadata": {
        "colab": {
          "base_uri": "https://localhost:8080/"
        },
        "id": "AzAdrdP_SaGJ",
        "outputId": "ce448d8d-8755-4283-c35e-366c73a6e08e"
      },
      "outputs": [
        {
          "name": "stderr",
          "output_type": "stream",
          "text": [
            "/tmp/ipykernel_42352/2329630006.py:1: FutureWarning: 'S' is deprecated and will be removed in a future version, please use 's' instead.\n",
            "  pd.date_range('2014-08-01 12:10:01', freq='S', periods=5)\n"
          ]
        },
        {
          "data": {
            "text/plain": [
              "DatetimeIndex(['2014-08-01 12:10:01',\n",
              "               '2014-08-01 12:10:02',\n",
              "               '2014-08-01 12:10:03',\n",
              "               '2014-08-01 12:10:04',\n",
              "               '2014-08-01 12:10:05'],\n",
              "              dtype='datetime64[ns]', freq='s')"
            ]
          },
          "execution_count": 51,
          "metadata": {},
          "output_type": "execute_result"
        }
      ],
      "source": [
        "pd.date_range('2014-08-01 12:10:01', freq='S', periods=5)"
      ]
    },
    {
      "cell_type": "markdown",
      "metadata": {
        "id": "W0VQJUJxSedW"
      },
      "source": [
        "Представление временных интервалов с помощью смещений дат"
      ]
    },
    {
      "cell_type": "code",
      "execution_count": 52,
      "metadata": {
        "colab": {
          "base_uri": "https://localhost:8080/"
        },
        "id": "AYvL-gXlSoEY",
        "outputId": "3c008a24-74ec-499f-a37e-eb59af49dbc0"
      },
      "outputs": [
        {
          "data": {
            "text/plain": [
              "array(['2014-08-29T00:00:00.000000000', '2014-09-01T00:00:00.000000000',\n",
              "       '2014-09-02T00:00:00.000000000', '2014-09-03T00:00:00.000000000',\n",
              "       '2014-09-04T00:00:00.000000000', '2014-09-05T00:00:00.000000000'],\n",
              "      dtype='datetime64[ns]')"
            ]
          },
          "execution_count": 52,
          "metadata": {},
          "output_type": "execute_result"
        }
      ],
      "source": [
        "dti = pd.date_range('2014-08-29', '2014-09-05', freq='B')\n",
        "dti.values"
      ]
    },
    {
      "cell_type": "code",
      "execution_count": 53,
      "metadata": {
        "colab": {
          "base_uri": "https://localhost:8080/"
        },
        "id": "HeVvsLNgSrSu",
        "outputId": "aa076287-7acc-49ec-d3c9-a65feafeaf0d"
      },
      "outputs": [
        {
          "data": {
            "text/plain": [
              "<BusinessDay>"
            ]
          },
          "execution_count": 53,
          "metadata": {},
          "output_type": "execute_result"
        }
      ],
      "source": [
        "dti.freq"
      ]
    },
    {
      "cell_type": "code",
      "execution_count": 54,
      "metadata": {
        "colab": {
          "base_uri": "https://localhost:8080/"
        },
        "id": "57MzfBPWStID",
        "outputId": "e5fd7823-f43d-4eb5-d0be-a906aa80adad"
      },
      "outputs": [
        {
          "data": {
            "text/plain": [
              "Timestamp('2014-08-30 00:00:00')"
            ]
          },
          "execution_count": 54,
          "metadata": {},
          "output_type": "execute_result"
        }
      ],
      "source": [
        "d = datetime(2014, 8, 29)\n",
        "do = pd.DateOffset(days = 1) \n",
        "d + do"
      ]
    },
    {
      "cell_type": "code",
      "execution_count": 55,
      "metadata": {
        "colab": {
          "base_uri": "https://localhost:8080/"
        },
        "id": "LK0g6kj2SvB_",
        "outputId": "f59ed864-5ae2-4506-f9b5-979e53ab66de"
      },
      "outputs": [
        {
          "data": {
            "text/plain": [
              "Timestamp('2014-09-01 00:00:00')"
            ]
          },
          "execution_count": 55,
          "metadata": {},
          "output_type": "execute_result"
        }
      ],
      "source": [
        "from pandas.tseries.offsets import *\n",
        "d + BusinessDay()"
      ]
    },
    {
      "cell_type": "code",
      "execution_count": 56,
      "metadata": {
        "colab": {
          "base_uri": "https://localhost:8080/"
        },
        "id": "rB7oCmizSyKp",
        "outputId": "7834b551-4be5-4a7e-8d31-886c7b318b10"
      },
      "outputs": [
        {
          "data": {
            "text/plain": [
              "Timestamp('2014-09-02 00:00:00')"
            ]
          },
          "execution_count": 56,
          "metadata": {},
          "output_type": "execute_result"
        }
      ],
      "source": [
        "d + 2 * BusinessDay()"
      ]
    },
    {
      "cell_type": "code",
      "execution_count": 57,
      "metadata": {
        "colab": {
          "base_uri": "https://localhost:8080/"
        },
        "id": "3Eev0zKPS1-z",
        "outputId": "0f97c602-8242-43f2-d860-5be368c16bf8"
      },
      "outputs": [
        {
          "data": {
            "text/plain": [
              "Timestamp('2014-09-30 00:00:00')"
            ]
          },
          "execution_count": 57,
          "metadata": {},
          "output_type": "execute_result"
        }
      ],
      "source": [
        "d + BMonthEnd()"
      ]
    },
    {
      "cell_type": "code",
      "execution_count": 58,
      "metadata": {
        "colab": {
          "base_uri": "https://localhost:8080/"
        },
        "id": "ENbQkeKIS4XM",
        "outputId": "aef20092-9d7d-4487-a347-d6170e94eabe"
      },
      "outputs": [
        {
          "data": {
            "text/plain": [
              "Timestamp('2014-09-30 00:00:00')"
            ]
          },
          "execution_count": 58,
          "metadata": {},
          "output_type": "execute_result"
        }
      ],
      "source": [
        "BMonthEnd().rollforward(datetime(2014, 9, 15))"
      ]
    },
    {
      "cell_type": "code",
      "execution_count": 59,
      "metadata": {
        "colab": {
          "base_uri": "https://localhost:8080/"
        },
        "id": "cRCSMGSUS4dq",
        "outputId": "0564c71e-f181-446e-ced0-cd357262dff3"
      },
      "outputs": [
        {
          "data": {
            "text/plain": [
              "Timestamp('2014-08-26 00:00:00')"
            ]
          },
          "execution_count": 59,
          "metadata": {},
          "output_type": "execute_result"
        }
      ],
      "source": [
        "d - Week(weekday = 1)"
      ]
    },
    {
      "cell_type": "markdown",
      "metadata": {
        "id": "0B_pdA7YTCCc"
      },
      "source": [
        "Привязанные смещения"
      ]
    },
    {
      "cell_type": "code",
      "execution_count": 60,
      "metadata": {
        "colab": {
          "base_uri": "https://localhost:8080/"
        },
        "id": "0MAiTj94TEY_",
        "outputId": "90453600-32e8-46c7-b0a7-97cd073e05ca"
      },
      "outputs": [
        {
          "data": {
            "text/plain": [
              "array(['2014-06-04T00:00:00.000000000', '2014-06-11T00:00:00.000000000',\n",
              "       '2014-06-18T00:00:00.000000000', '2014-06-25T00:00:00.000000000',\n",
              "       '2014-07-02T00:00:00.000000000', '2014-07-09T00:00:00.000000000',\n",
              "       '2014-07-16T00:00:00.000000000', '2014-07-23T00:00:00.000000000',\n",
              "       '2014-07-30T00:00:00.000000000'], dtype='datetime64[ns]')"
            ]
          },
          "execution_count": 60,
          "metadata": {},
          "output_type": "execute_result"
        }
      ],
      "source": [
        "wednesdays = pd.date_range('2014-06-01', \n",
        "                           '2014-07-31', freq=\"W-WED\")\n",
        "wednesdays.values"
      ]
    },
    {
      "cell_type": "code",
      "execution_count": 61,
      "metadata": {
        "colab": {
          "base_uri": "https://localhost:8080/"
        },
        "id": "3phen2GcTGqo",
        "outputId": "cb9664bb-a83f-4965-a027-8cb093258f84"
      },
      "outputs": [
        {
          "data": {
            "text/plain": [
              "array(['2014-03-03T00:00:00.000000000', '2014-06-02T00:00:00.000000000',\n",
              "       '2014-09-01T00:00:00.000000000', '2014-12-01T00:00:00.000000000'],\n",
              "      dtype='datetime64[ns]')"
            ]
          },
          "execution_count": 61,
          "metadata": {},
          "output_type": "execute_result"
        }
      ],
      "source": [
        "qends = pd.date_range('2014-01-01', '2014-12-31', \n",
        "                      freq='BQS-JUN')\n",
        "qends.values"
      ]
    },
    {
      "cell_type": "markdown",
      "metadata": {
        "id": "-IAgm1iOTLSp"
      },
      "source": [
        "Создание временного интервала с помощью объекта Period"
      ]
    },
    {
      "cell_type": "code",
      "execution_count": 62,
      "metadata": {
        "colab": {
          "base_uri": "https://localhost:8080/"
        },
        "id": "l36YPQADTJtj",
        "outputId": "a46590f4-eefb-4bdc-c1f6-014cc1a71606"
      },
      "outputs": [
        {
          "data": {
            "text/plain": [
              "Period('2014-08', 'M')"
            ]
          },
          "execution_count": 62,
          "metadata": {},
          "output_type": "execute_result"
        }
      ],
      "source": [
        "aug2014 = pd.Period('2014-08', freq='M')\n",
        "aug2014"
      ]
    },
    {
      "cell_type": "code",
      "execution_count": 63,
      "metadata": {
        "colab": {
          "base_uri": "https://localhost:8080/"
        },
        "id": "H5qer8jyTWmM",
        "outputId": "d5fbe4ac-95ce-409c-fe51-4fe2b305e59c"
      },
      "outputs": [
        {
          "data": {
            "text/plain": [
              "(Timestamp('2014-08-01 00:00:00'), Timestamp('2014-08-31 23:59:59.999999999'))"
            ]
          },
          "execution_count": 63,
          "metadata": {},
          "output_type": "execute_result"
        }
      ],
      "source": [
        "aug2014.start_time, aug2014.end_time"
      ]
    },
    {
      "cell_type": "code",
      "execution_count": 64,
      "metadata": {
        "colab": {
          "base_uri": "https://localhost:8080/"
        },
        "id": "AZIsErH-TY3C",
        "outputId": "def19b86-a126-4e06-a10e-d45c41232007"
      },
      "outputs": [
        {
          "data": {
            "text/plain": [
              "Period('2014-09', 'M')"
            ]
          },
          "execution_count": 64,
          "metadata": {},
          "output_type": "execute_result"
        }
      ],
      "source": [
        "sep2014 = aug2014 + 1\n",
        "sep2014"
      ]
    },
    {
      "cell_type": "code",
      "execution_count": 65,
      "metadata": {
        "colab": {
          "base_uri": "https://localhost:8080/"
        },
        "id": "e6oinCZETdJo",
        "outputId": "123775f4-d289-48c4-88f5-00b1996649a6"
      },
      "outputs": [
        {
          "data": {
            "text/plain": [
              "(Timestamp('2014-09-01 00:00:00'), Timestamp('2014-09-30 23:59:59.999999999'))"
            ]
          },
          "execution_count": 65,
          "metadata": {},
          "output_type": "execute_result"
        }
      ],
      "source": [
        "sep2014.start_time, sep2014.end_time"
      ]
    },
    {
      "cell_type": "markdown",
      "metadata": {
        "id": "joFUN4rHTe3F"
      },
      "source": [
        "Индексация с помощью объекта  PeriodIndex"
      ]
    },
    {
      "cell_type": "code",
      "execution_count": 66,
      "metadata": {
        "colab": {
          "base_uri": "https://localhost:8080/"
        },
        "id": "3yh-SqZPTkgf",
        "outputId": "ed0e0cc7-8cdc-4450-d19d-403cdf02e741"
      },
      "outputs": [
        {
          "data": {
            "text/plain": [
              "PeriodIndex(['2013-01', '2013-02', '2013-03', '2013-04',\n",
              "             '2013-05', '2013-06', '2013-07', '2013-08',\n",
              "             '2013-09', '2013-10', '2013-11', '2013-12'],\n",
              "            dtype='period[M]')"
            ]
          },
          "execution_count": 66,
          "metadata": {},
          "output_type": "execute_result"
        }
      ],
      "source": [
        "mp2013 = pd.period_range('1/1/2013', '12/31/2013', freq='M')\n",
        "mp2013"
      ]
    },
    {
      "cell_type": "code",
      "execution_count": 67,
      "metadata": {
        "colab": {
          "base_uri": "https://localhost:8080/"
        },
        "id": "kRbKg9D7TmsC",
        "outputId": "5b714398-f4c0-4762-c059-fc9832555b6b"
      },
      "outputs": [
        {
          "name": "stdout",
          "output_type": "stream",
          "text": [
            "2013-01-01 00:00:00 2013-01-31 23:59:59.999999999\n",
            "2013-02-01 00:00:00 2013-02-28 23:59:59.999999999\n",
            "2013-03-01 00:00:00 2013-03-31 23:59:59.999999999\n",
            "2013-04-01 00:00:00 2013-04-30 23:59:59.999999999\n",
            "2013-05-01 00:00:00 2013-05-31 23:59:59.999999999\n",
            "2013-06-01 00:00:00 2013-06-30 23:59:59.999999999\n",
            "2013-07-01 00:00:00 2013-07-31 23:59:59.999999999\n",
            "2013-08-01 00:00:00 2013-08-31 23:59:59.999999999\n",
            "2013-09-01 00:00:00 2013-09-30 23:59:59.999999999\n",
            "2013-10-01 00:00:00 2013-10-31 23:59:59.999999999\n",
            "2013-11-01 00:00:00 2013-11-30 23:59:59.999999999\n",
            "2013-12-01 00:00:00 2013-12-31 23:59:59.999999999\n"
          ]
        }
      ],
      "source": [
        "for p in mp2013: \n",
        "    print (\"{0} {1}\".format(p.start_time, p.end_time))"
      ]
    },
    {
      "cell_type": "code",
      "execution_count": 68,
      "metadata": {
        "colab": {
          "base_uri": "https://localhost:8080/"
        },
        "id": "i-_psUgdTphS",
        "outputId": "200a625f-2d5e-4814-a807-f3cdd1d65595"
      },
      "outputs": [
        {
          "data": {
            "text/plain": [
              "2013-01    0.469112\n",
              "2013-02   -0.282863\n",
              "2013-03   -1.509059\n",
              "2013-04   -1.135632\n",
              "2013-05    1.212112\n",
              "Freq: M, dtype: float64"
            ]
          },
          "execution_count": 68,
          "metadata": {},
          "output_type": "execute_result"
        }
      ],
      "source": [
        "np.random.seed(123456)\n",
        "ps = pd.Series(np.random.randn(12), mp2013)\n",
        "ps[:5]"
      ]
    },
    {
      "cell_type": "code",
      "execution_count": 69,
      "metadata": {
        "colab": {
          "base_uri": "https://localhost:8080/"
        },
        "id": "4DU9h2mQTsCM",
        "outputId": "93ba7750-4afe-452f-e45a-61ebaf4fe131"
      },
      "outputs": [
        {
          "data": {
            "text/plain": [
              "2013-01    0.469112\n",
              "2013-02   -0.282863\n",
              "2013-03   -1.509059\n",
              "2013-04   -1.135632\n",
              "2013-05    1.212112\n",
              "             ...   \n",
              "2014-08   -1.087401\n",
              "2014-09   -0.673690\n",
              "2014-10    0.113648\n",
              "2014-11   -1.478427\n",
              "2014-12    0.524988\n",
              "Freq: M, Length: 24, dtype: float64"
            ]
          },
          "execution_count": 69,
          "metadata": {},
          "output_type": "execute_result"
        }
      ],
      "source": [
        "np.random.seed(123456)\n",
        "ps = pd.Series(np.random.randn(24), \n",
        "               pd.period_range('1/1/2013', \n",
        "                               '12/31/2014', freq='M'))\n",
        "ps"
      ]
    },
    {
      "cell_type": "code",
      "execution_count": 70,
      "metadata": {
        "colab": {
          "base_uri": "https://localhost:8080/"
        },
        "id": "SE2oulSRTuuZ",
        "outputId": "094c351c-6639-4ccd-a75d-027c1dac460d"
      },
      "outputs": [
        {
          "data": {
            "text/plain": [
              "np.float64(0.567020349793672)"
            ]
          },
          "execution_count": 70,
          "metadata": {},
          "output_type": "execute_result"
        }
      ],
      "source": [
        "ps['2014-06']"
      ]
    },
    {
      "cell_type": "code",
      "execution_count": 71,
      "metadata": {
        "colab": {
          "base_uri": "https://localhost:8080/"
        },
        "id": "EwJF_o8WTxUb",
        "outputId": "a2e1e0e8-dc1e-4235-d400-aed1b0e45fcb"
      },
      "outputs": [
        {
          "data": {
            "text/plain": [
              "2014-01    0.721555\n",
              "2014-02   -0.706771\n",
              "2014-03   -1.039575\n",
              "2014-04    0.271860\n",
              "2014-05   -0.424972\n",
              "             ...   \n",
              "2014-08   -1.087401\n",
              "2014-09   -0.673690\n",
              "2014-10    0.113648\n",
              "2014-11   -1.478427\n",
              "2014-12    0.524988\n",
              "Freq: M, Length: 12, dtype: float64"
            ]
          },
          "execution_count": 71,
          "metadata": {},
          "output_type": "execute_result"
        }
      ],
      "source": [
        "ps['2014']"
      ]
    },
    {
      "cell_type": "code",
      "execution_count": 72,
      "metadata": {
        "colab": {
          "base_uri": "https://localhost:8080/"
        },
        "id": "PKnkHVxdTzPD",
        "outputId": "4df6561b-27a8-476d-8313-85f8a629fa35"
      },
      "outputs": [
        {
          "data": {
            "text/plain": [
              "2014-03   -1.039575\n",
              "2014-04    0.271860\n",
              "2014-05   -0.424972\n",
              "2014-06    0.567020\n",
              "Freq: M, dtype: float64"
            ]
          },
          "execution_count": 72,
          "metadata": {},
          "output_type": "execute_result"
        }
      ],
      "source": [
        "ps['2014-03':'2014-06']"
      ]
    },
    {
      "cell_type": "markdown",
      "metadata": {
        "id": "bkX3pekOT0_F"
      },
      "source": [
        "Обработка праздников с помощью каледарей"
      ]
    },
    {
      "cell_type": "code",
      "execution_count": 73,
      "metadata": {
        "colab": {
          "base_uri": "https://localhost:8080/"
        },
        "id": "XxOUhNkRT60_",
        "outputId": "bdfb7bd9-755b-4f67-e0c5-4f56deba3188"
      },
      "outputs": [
        {
          "ename": "NameError",
          "evalue": "name 'USFederalHolidayCalendar' is not defined",
          "output_type": "error",
          "traceback": [
            "\u001b[31m---------------------------------------------------------------------------\u001b[39m",
            "\u001b[31mNameError\u001b[39m                                 Traceback (most recent call last)",
            "\u001b[36mCell\u001b[39m\u001b[36m \u001b[39m\u001b[32mIn[73]\u001b[39m\u001b[32m, line 2\u001b[39m\n\u001b[32m      1\u001b[39m \u001b[38;5;28;01mfrom\u001b[39;00m\u001b[38;5;250m \u001b[39m\u001b[34;01mpandas\u001b[39;00m\u001b[34;01m.\u001b[39;00m\u001b[34;01mtseries\u001b[39;00m\u001b[34;01m.\u001b[39;00m\u001b[34;01mholiday\u001b[39;00m\u001b[38;5;250m \u001b[39m\u001b[38;5;28;01mimport\u001b[39;00m *\n\u001b[32m----> \u001b[39m\u001b[32m2\u001b[39m cal = \u001b[43mUSFederalHolidayCalendar\u001b[49m()\n\u001b[32m      3\u001b[39m \u001b[38;5;28;01mfor\u001b[39;00m d \u001b[38;5;129;01min\u001b[39;00m cal.holidays(start=\u001b[33m'\u001b[39m\u001b[33m2014-01-01\u001b[39m\u001b[33m'\u001b[39m, end=\u001b[33m'\u001b[39m\u001b[33m2014-12-31\u001b[39m\u001b[33m'\u001b[39m):\n\u001b[32m      4\u001b[39m     \u001b[38;5;28mprint\u001b[39m (d)\n",
            "\u001b[31mNameError\u001b[39m: name 'USFederalHolidayCalendar' is not defined"
          ]
        }
      ],
      "source": [
        "from pandas.tseries.holiday import *\n",
        "cal = USFederalHolidayCalendar()\n",
        "for d in cal.holidays(start='2014-01-01', end='2014-12-31'):\n",
        "    print (d)"
      ]
    },
    {
      "cell_type": "code",
      "execution_count": null,
      "metadata": {
        "colab": {
          "base_uri": "https://localhost:8080/"
        },
        "id": "wt4AUPR3UAU7",
        "outputId": "c9d1fbf8-b04e-4018-af23-30ad1061133c"
      },
      "outputs": [],
      "source": [
        "cbd = CustomBusinessDay(holidays=cal.holidays())\n",
        "datetime(2014, 8, 29) + cbd"
      ]
    },
    {
      "cell_type": "markdown",
      "metadata": {
        "id": "IMek4CNzUEx7"
      },
      "source": [
        "Нормализация временных меток с помощью часовых поясов"
      ]
    },
    {
      "cell_type": "code",
      "execution_count": null,
      "metadata": {
        "colab": {
          "base_uri": "https://localhost:8080/"
        },
        "id": "1JKY-exZUUdN",
        "outputId": "e2f71a51-2628-42f4-edfa-24359d0c3b89"
      },
      "outputs": [],
      "source": [
        "now = pd.Timestamp('now')\n",
        "now, now.tz is None"
      ]
    },
    {
      "cell_type": "code",
      "execution_count": null,
      "metadata": {
        "colab": {
          "base_uri": "https://localhost:8080/"
        },
        "id": "3ZSOr-svUXfm",
        "outputId": "7e6fcbf4-a66f-4095-b302-566e099fd37b"
      },
      "outputs": [],
      "source": [
        "rng = pd.date_range('3/6/2012 00:00', periods=15, freq='D')\n",
        "rng.tz is None, rng[0].tz is None"
      ]
    },
    {
      "cell_type": "code",
      "execution_count": null,
      "metadata": {
        "colab": {
          "base_uri": "https://localhost:8080/"
        },
        "id": "-nWe1bX8UZXy",
        "outputId": "c7411ccd-9ab4-49f7-9c51-b4b87c6aed72"
      },
      "outputs": [],
      "source": [
        "from pytz import common_timezones\n",
        "common_timezones[:5]"
      ]
    },
    {
      "cell_type": "code",
      "execution_count": null,
      "metadata": {
        "colab": {
          "base_uri": "https://localhost:8080/"
        },
        "id": "DCOBtlXqUeK7",
        "outputId": "f604f082-0a6e-4787-ae4f-964e3839d903"
      },
      "outputs": [],
      "source": [
        "now = Timestamp(\"now\")\n",
        "local_now = now.tz_localize('UTC')\n",
        "now, local_now"
      ]
    },
    {
      "cell_type": "code",
      "execution_count": null,
      "metadata": {
        "colab": {
          "base_uri": "https://localhost:8080/"
        },
        "id": "eoduyJnoUgP-",
        "outputId": "6581645c-ce35-4ad2-a369-a792bf224625"
      },
      "outputs": [],
      "source": [
        "tstamp = Timestamp('2014-08-01 12:00:00', tz='US/Mountain')\n",
        "tstamp"
      ]
    },
    {
      "cell_type": "code",
      "execution_count": null,
      "metadata": {
        "colab": {
          "base_uri": "https://localhost:8080/"
        },
        "id": "BK0-E0e9Up5Y",
        "outputId": "0b32e144-3bc7-4989-8612-7acc3db459b6"
      },
      "outputs": [],
      "source": [
        "rng = pd.date_range('3/6/2012 00:00:00', \n",
        "                    periods=10, freq='D', tz='US/Mountain')\n",
        "rng.tz, rng[0].tz"
      ]
    },
    {
      "cell_type": "code",
      "execution_count": null,
      "metadata": {
        "colab": {
          "base_uri": "https://localhost:8080/"
        },
        "id": "24xvz5MwUsSH",
        "outputId": "e44e57b5-270b-4839-d296-54ff3266a4e0"
      },
      "outputs": [],
      "source": [
        "import pytz\n",
        "mountain_tz = pytz.timezone(\"US/Mountain\")\n",
        "eastern_tz = pytz.timezone(\"US/Eastern\")\n",
        "mountain_tz.localize(now), eastern_tz.localize(now)"
      ]
    },
    {
      "cell_type": "code",
      "execution_count": null,
      "metadata": {
        "colab": {
          "base_uri": "https://localhost:8080/"
        },
        "id": "BBUl5f1XUxtV",
        "outputId": "e3bc4153-c19c-4548-aed7-5153d8afd2b5"
      },
      "outputs": [],
      "source": [
        "s_mountain = Series(np.arange(0, 5),\n",
        "                    index=pd.date_range('2014-08-01', \n",
        "                                        periods=5, freq=\"H\", \n",
        "                                        tz='US/Mountain'))\n",
        "s_eastern = Series(np.arange(0, 5), \n",
        "                   index=pd.date_range('2014-08-01', \n",
        "                                       periods=5, freq=\"H\", \n",
        "                                       tz='US/Eastern'))\n",
        "s_mountain"
      ]
    },
    {
      "cell_type": "code",
      "execution_count": null,
      "metadata": {
        "colab": {
          "base_uri": "https://localhost:8080/"
        },
        "id": "7FwTXJ2YU45s",
        "outputId": "960accf4-fea6-4e6e-df36-392e4b32dfe7"
      },
      "outputs": [],
      "source": [
        "s_eastern"
      ]
    },
    {
      "cell_type": "code",
      "execution_count": null,
      "metadata": {
        "colab": {
          "base_uri": "https://localhost:8080/"
        },
        "id": "dL1GUx8cU8HC",
        "outputId": "4b2eee26-80aa-4954-b760-7ec53fea34d2"
      },
      "outputs": [],
      "source": [
        "s_eastern + s_mountain"
      ]
    },
    {
      "cell_type": "code",
      "execution_count": null,
      "metadata": {
        "colab": {
          "base_uri": "https://localhost:8080/"
        },
        "id": "efOFIUrGU9ez",
        "outputId": "bbb376ef-a823-4096-c7c3-10b17344e9d1"
      },
      "outputs": [],
      "source": [
        "s_pacific = s_eastern.tz_convert(\"US/Pacific\")\n",
        "s_pacific"
      ]
    },
    {
      "cell_type": "code",
      "execution_count": null,
      "metadata": {
        "colab": {
          "base_uri": "https://localhost:8080/"
        },
        "id": "6JruVkAlU_mv",
        "outputId": "93de3846-205f-4878-9d3c-49deeada2b90"
      },
      "outputs": [],
      "source": [
        "s_mountain + s_pacific"
      ]
    },
    {
      "cell_type": "markdown",
      "metadata": {
        "id": "MgdzZoE1VD5t"
      },
      "source": [
        "Опережение и запаздывание"
      ]
    },
    {
      "cell_type": "code",
      "execution_count": null,
      "metadata": {
        "colab": {
          "base_uri": "https://localhost:8080/"
        },
        "id": "V8ZvWNPiVVsb",
        "outputId": "fc1010b1-1c0b-4370-f1f0-2e9da1158b82"
      },
      "outputs": [],
      "source": [
        "np.random.seed(123456)\n",
        "ts = Series([1, 2, 2.5, 1.5, 0.5],\n",
        "            pd.date_range('2014-08-01', periods=5))\n",
        "ts"
      ]
    },
    {
      "cell_type": "code",
      "execution_count": null,
      "metadata": {
        "colab": {
          "base_uri": "https://localhost:8080/"
        },
        "id": "_lZtCngGVYdF",
        "outputId": "f99cc8b7-6143-457f-f0dc-988d5b99ee40"
      },
      "outputs": [],
      "source": [
        "ts.shift(1)"
      ]
    },
    {
      "cell_type": "code",
      "execution_count": null,
      "metadata": {
        "colab": {
          "base_uri": "https://localhost:8080/"
        },
        "id": "jykyJwmHVa3r",
        "outputId": "0899454e-753a-452d-aae2-6f3cfbff5925"
      },
      "outputs": [],
      "source": [
        "ts.shift(-2)"
      ]
    },
    {
      "cell_type": "code",
      "execution_count": null,
      "metadata": {
        "colab": {
          "base_uri": "https://localhost:8080/"
        },
        "id": "60zuYH0IVdU2",
        "outputId": "e343e39d-7f2d-4897-ac51-59c83efaf149"
      },
      "outputs": [],
      "source": [
        "ts / ts.shift(1)"
      ]
    },
    {
      "cell_type": "code",
      "execution_count": null,
      "metadata": {
        "colab": {
          "base_uri": "https://localhost:8080/"
        },
        "id": "9DI8ZRvwVgZY",
        "outputId": "8543f183-e26c-484b-ec12-85e40298739e"
      },
      "outputs": [],
      "source": [
        "ts.shift(1, freq=\"B\")"
      ]
    },
    {
      "cell_type": "code",
      "execution_count": null,
      "metadata": {
        "colab": {
          "base_uri": "https://localhost:8080/"
        },
        "id": "sBs-UaqnVi_k",
        "outputId": "dd170fce-50db-4311-b002-87b93c024d75"
      },
      "outputs": [],
      "source": [
        "ts.tshift(5, freq=\"H\")"
      ]
    },
    {
      "cell_type": "code",
      "execution_count": null,
      "metadata": {
        "colab": {
          "base_uri": "https://localhost:8080/"
        },
        "id": "GPJ_EK7nVmXl",
        "outputId": "2be37ce3-f7fb-45dc-ef18-997a422f9913"
      },
      "outputs": [],
      "source": [
        "ts.shift(1, DateOffset(minutes=0.5))"
      ]
    },
    {
      "cell_type": "code",
      "execution_count": null,
      "metadata": {
        "colab": {
          "base_uri": "https://localhost:8080/"
        },
        "id": "ULDbuRnRVouM",
        "outputId": "ee540f7b-d8c2-49f4-e1d5-d42d3a3ee49a"
      },
      "outputs": [],
      "source": [
        "ts.tshift(-1, freq='H')"
      ]
    },
    {
      "cell_type": "markdown",
      "metadata": {
        "id": "LlbszMirVsSc"
      },
      "source": [
        "Преобразование частоты временного ряда"
      ]
    },
    {
      "cell_type": "code",
      "execution_count": null,
      "metadata": {
        "colab": {
          "base_uri": "https://localhost:8080/"
        },
        "id": "2mUyIw2GVyg2",
        "outputId": "283991b6-6409-413c-97e1-72dbe0efbb68"
      },
      "outputs": [],
      "source": [
        "periods = 31 * 24\n",
        "hourly = Series(np.arange(0, periods),\n",
        "               pd.date_range('08-01-2014', freq=\"2H\", \n",
        "                             periods = periods))\n",
        "hourly[:5]"
      ]
    },
    {
      "cell_type": "code",
      "execution_count": null,
      "metadata": {
        "colab": {
          "base_uri": "https://localhost:8080/"
        },
        "id": "KeVARAwbV1w9",
        "outputId": "523734a7-572d-4673-ee81-a60b66871e5e"
      },
      "outputs": [],
      "source": [
        "daily = hourly.asfreq('D')\n",
        "daily[:5]"
      ]
    },
    {
      "cell_type": "code",
      "execution_count": null,
      "metadata": {
        "colab": {
          "base_uri": "https://localhost:8080/"
        },
        "id": "A-LgFN88V5wD",
        "outputId": "e972daa4-ccee-4a2c-8364-246c4d62777e"
      },
      "outputs": [],
      "source": [
        "daily.asfreq('H')"
      ]
    },
    {
      "cell_type": "code",
      "execution_count": null,
      "metadata": {
        "colab": {
          "base_uri": "https://localhost:8080/"
        },
        "id": "SZezbAVnV8M7",
        "outputId": "5619935d-2fd0-4d8e-a6f9-adb1da171b6b"
      },
      "outputs": [],
      "source": [
        "daily.asfreq('H', method='ffill')"
      ]
    },
    {
      "cell_type": "code",
      "execution_count": null,
      "metadata": {
        "colab": {
          "base_uri": "https://localhost:8080/"
        },
        "id": "Cdbu8J0WV-M7",
        "outputId": "259bb3ad-fb50-4833-94b0-ff506d72de3d"
      },
      "outputs": [],
      "source": [
        "daily.asfreq('H', method='bfill')"
      ]
    },
    {
      "cell_type": "markdown",
      "metadata": {
        "id": "bLD6WlgIWBOQ"
      },
      "source": [
        "Увеличение или уменьшение шага дискретизации временного ряда"
      ]
    },
    {
      "cell_type": "code",
      "execution_count": null,
      "metadata": {
        "colab": {
          "base_uri": "https://localhost:8080/"
        },
        "id": "tncvdYyCWHzw",
        "outputId": "7bf5471a-93f9-471c-ff25-dc25881c56cb"
      },
      "outputs": [],
      "source": [
        "count = 24 * 60 * 60 * 5\n",
        "\n",
        "np.random.seed(123456)\n",
        "values = np.random.randn(count)\n",
        "ws = pd.Series(values)\n",
        "\n",
        "walk = ws.cumsum()\n",
        "\n",
        "walk.index = pd.date_range('2014-08-01', periods=count, freq=\"S\")\n",
        "walk"
      ]
    },
    {
      "cell_type": "code",
      "execution_count": null,
      "metadata": {
        "colab": {
          "base_uri": "https://localhost:8080/"
        },
        "id": "Pw8R2CelWNFa",
        "outputId": "5b127789-483f-49ce-f300-2332e8ba6668"
      },
      "outputs": [],
      "source": [
        "walk.resample(\"1Min\").mean()"
      ]
    },
    {
      "cell_type": "code",
      "execution_count": null,
      "metadata": {
        "colab": {
          "base_uri": "https://localhost:8080/"
        },
        "id": "pMmweOe0WPC3",
        "outputId": "e7f28ff8-4937-44a3-f3cb-3fa9465a7769"
      },
      "outputs": [],
      "source": [
        "walk['2014-08-01 00:00'].mean()"
      ]
    },
    {
      "cell_type": "code",
      "execution_count": null,
      "metadata": {
        "colab": {
          "base_uri": "https://localhost:8080/"
        },
        "id": "082g-0fXWRui",
        "outputId": "4ab39e13-bd7c-4685-f290-41f4778de63a"
      },
      "outputs": [],
      "source": [
        "walk.resample(\"1Min\", closed='right').mean()"
      ]
    },
    {
      "cell_type": "code",
      "execution_count": null,
      "metadata": {
        "colab": {
          "base_uri": "https://localhost:8080/"
        },
        "id": "FHXRov57WVjd",
        "outputId": "8617f58c-9a25-4555-c478-15d7b72f9809"
      },
      "outputs": [],
      "source": [
        "walk.resample(\"1Min\").first()"
      ]
    },
    {
      "cell_type": "code",
      "execution_count": null,
      "metadata": {
        "colab": {
          "base_uri": "https://localhost:8080/"
        },
        "id": "JK0jqwJ4Wa6o",
        "outputId": "0fc1f353-891e-4041-846d-dd1bfe3ad2b3"
      },
      "outputs": [],
      "source": [
        "bymin = walk.resample(\"1Min\").mean()\n",
        "bymin.resample('S').mean()"
      ]
    },
    {
      "cell_type": "code",
      "execution_count": null,
      "metadata": {
        "colab": {
          "base_uri": "https://localhost:8080/"
        },
        "id": "TgIQgR2BWcv3",
        "outputId": "5288222c-9ee0-4b25-8daf-c58a6644a8c8"
      },
      "outputs": [],
      "source": [
        "bymin.resample(\"S\").bfill()"
      ]
    },
    {
      "cell_type": "code",
      "execution_count": null,
      "metadata": {
        "colab": {
          "base_uri": "https://localhost:8080/"
        },
        "id": "bWBbk6LKWikW",
        "outputId": "21cd4546-88b8-46e0-9bb1-d8a31eb81653"
      },
      "outputs": [],
      "source": [
        "interpolated = bymin.resample(\"S\").interpolate()\n",
        "interpolated"
      ]
    },
    {
      "cell_type": "code",
      "execution_count": null,
      "metadata": {
        "colab": {
          "base_uri": "https://localhost:8080/",
          "height": 650
        },
        "id": "xeeS4AnbWmHi",
        "outputId": "b48358e7-f242-4884-a977-e1d0c84e8e49"
      },
      "outputs": [],
      "source": [
        "ohlc = walk.resample(\"H\").ohlc()\n",
        "ohlc"
      ]
    },
    {
      "cell_type": "markdown",
      "metadata": {
        "id": "fz1WbckcXHbX"
      },
      "source": [
        "Применение к временному ряду операций на основе скользящего окна"
      ]
    },
    {
      "cell_type": "code",
      "execution_count": null,
      "metadata": {
        "colab": {
          "base_uri": "https://localhost:8080/",
          "height": 277
        },
        "id": "M5zDZLm-Wpt8",
        "outputId": "4e4def0e-4a94-4ed9-c806-acde95eef8b3"
      },
      "outputs": [],
      "source": [
        "first_minute = walk['2014-08-01 00:00']\n",
        "means = first_minute.rolling(window=5, center=False).mean()\n",
        "means.plot()\n",
        "first_minute.plot();"
      ]
    },
    {
      "cell_type": "code",
      "execution_count": null,
      "metadata": {
        "colab": {
          "base_uri": "https://localhost:8080/",
          "height": 277
        },
        "id": "L6K6cie0WH3I",
        "outputId": "3d89f1b5-77ac-4b0a-d0e4-e81132c3865a"
      },
      "outputs": [],
      "source": [
        "h1w = walk['2014-08-01 00:00']\n",
        "means2 = h1w.rolling(window=2, center=False).mean()\n",
        "means5 = h1w.rolling(window=5, center=False).mean()\n",
        "means10 = h1w.rolling(window=10, center=False).mean()\n",
        "h1w.plot()\n",
        "means2.plot()\n",
        "means5.plot()\n",
        "means10.plot();"
      ]
    },
    {
      "cell_type": "code",
      "execution_count": null,
      "metadata": {
        "colab": {
          "base_uri": "https://localhost:8080/",
          "height": 277
        },
        "id": "X6Esqj6GVB4C",
        "outputId": "a990abea-227b-4bb1-de00-8d39f934d800"
      },
      "outputs": [],
      "source": [
        "mean_abs_dev = lambda x: np.fabs(x - x.mean()).mean()\n",
        "means = h1w.rolling(window=5, center=False).apply(mean_abs_dev)\n",
        "means.plot();"
      ]
    },
    {
      "cell_type": "code",
      "execution_count": null,
      "metadata": {
        "colab": {
          "base_uri": "https://localhost:8080/",
          "height": 277
        },
        "id": "712ik0r5XavE",
        "outputId": "6fb8130e-e819-4e7f-ac34-3fbcadf79519"
      },
      "outputs": [],
      "source": [
        "h1w.plot()\n",
        "expanding = h1w.expanding(min_periods=1).mean()\n",
        "expanding.plot();"
      ]
    }
  ],
  "metadata": {
    "colab": {
      "provenance": []
    },
    "kernelspec": {
      "display_name": ".venv",
      "language": "python",
      "name": "python3"
    },
    "language_info": {
      "codemirror_mode": {
        "name": "ipython",
        "version": 3
      },
      "file_extension": ".py",
      "mimetype": "text/x-python",
      "name": "python",
      "nbconvert_exporter": "python",
      "pygments_lexer": "ipython3",
      "version": "3.13.2"
    }
  },
  "nbformat": 4,
  "nbformat_minor": 0
}
